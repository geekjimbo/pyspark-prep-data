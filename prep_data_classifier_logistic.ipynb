{
  "cells": [
    {
      "cell_type": "markdown",
      "metadata": {
        "id": "view-in-github",
        "colab_type": "text"
      },
      "source": [
        "<a href=\"https://colab.research.google.com/github/geekjimbo/pyspark-prep-data/blob/main/prep_data_classifier_logistic.ipynb\" target=\"_parent\"><img src=\"https://colab.research.google.com/assets/colab-badge.svg\" alt=\"Open In Colab\"/></a>"
      ]
    },
    {
      "cell_type": "code",
      "execution_count": null,
      "metadata": {
        "colab": {
          "base_uri": "https://localhost:8080/"
        },
        "id": "yEac2fbVEVYe",
        "outputId": "2bbc5472-6ad9-4edf-d5a3-639110e1b153"
      },
      "outputs": [
        {
          "name": "stdout",
          "output_type": "stream",
          "text": [
            "Looking in indexes: https://pypi.org/simple, https://us-python.pkg.dev/colab-wheels/public/simple/\n",
            "Requirement already satisfied: pyspark in /usr/local/lib/python3.8/dist-packages (3.3.2)\n",
            "Requirement already satisfied: py4j==0.10.9.5 in /usr/local/lib/python3.8/dist-packages (from pyspark) (0.10.9.5)\n"
          ]
        }
      ],
      "source": [
        "!pip install pyspark"
      ]
    },
    {
      "cell_type": "code",
      "execution_count": null,
      "metadata": {
        "id": "Wf8R8P19EWT6"
      },
      "outputs": [],
      "source": [
        "import pyspark\n",
        "from pyspark import SparkContext\n",
        "sc =SparkContext()"
      ]
    },
    {
      "cell_type": "code",
      "execution_count": null,
      "metadata": {
        "id": "zPwEPU4dFJFw"
      },
      "outputs": [],
      "source": [
        "nums= sc.parallelize([1,2,3,4])"
      ]
    },
    {
      "cell_type": "code",
      "execution_count": null,
      "metadata": {
        "colab": {
          "base_uri": "https://localhost:8080/"
        },
        "id": "m-dATOjrFVOi",
        "outputId": "ab068332-b194-4187-da42-63e822df8818"
      },
      "outputs": [
        {
          "data": {
            "text/plain": [
              "[1]"
            ]
          },
          "execution_count": 8,
          "metadata": {},
          "output_type": "execute_result"
        }
      ],
      "source": [
        "nums.take(1)"
      ]
    },
    {
      "cell_type": "code",
      "execution_count": null,
      "metadata": {
        "colab": {
          "base_uri": "https://localhost:8080/"
        },
        "id": "45W-9PWrFXZw",
        "outputId": "b86b39bd-bcf6-45f1-8257-47fd2a96864b"
      },
      "outputs": [
        {
          "name": "stdout",
          "output_type": "stream",
          "text": [
            "1 \n",
            "4 \n",
            "9 \n",
            "16 \n"
          ]
        }
      ],
      "source": [
        "squared = nums.map(lambda x: x*x).collect()\n",
        "for num in squared:\n",
        "    print('%i ' % (num))"
      ]
    },
    {
      "cell_type": "code",
      "execution_count": null,
      "metadata": {
        "colab": {
          "base_uri": "https://localhost:8080/"
        },
        "id": "CGOiGj3JFcVH",
        "outputId": "dff8600a-d6a4-418c-a90c-ae422089a028"
      },
      "outputs": [
        {
          "name": "stderr",
          "output_type": "stream",
          "text": [
            "/usr/local/lib/python3.8/dist-packages/pyspark/sql/context.py:112: FutureWarning: Deprecated in 3.0.0. Use SparkSession.builder.getOrCreate() instead.\n",
            "  warnings.warn(\n"
          ]
        }
      ],
      "source": [
        "from pyspark.sql import Row\n",
        "from pyspark.sql import SQLContext\n",
        "\n",
        "sqlContext = SQLContext(sc)"
      ]
    },
    {
      "cell_type": "code",
      "execution_count": null,
      "metadata": {
        "id": "sRFMnhR0FloJ"
      },
      "outputs": [],
      "source": [
        "list_p = [('John',19),('Smith',29),('Adam',35),('Henry',50)]"
      ]
    },
    {
      "cell_type": "code",
      "execution_count": null,
      "metadata": {
        "id": "gu_1N12eF3Ix"
      },
      "outputs": [],
      "source": [
        "rdd = sc.parallelize(list_p)"
      ]
    },
    {
      "cell_type": "code",
      "execution_count": null,
      "metadata": {
        "colab": {
          "base_uri": "https://localhost:8080/"
        },
        "id": "RZarX2MlF6lu",
        "outputId": "afdc11cc-d285-41c7-ce86-95bc7a219da2"
      },
      "outputs": [
        {
          "data": {
            "text/plain": [
              "[('John', 19)]"
            ]
          },
          "execution_count": 13,
          "metadata": {},
          "output_type": "execute_result"
        }
      ],
      "source": [
        "rdd.take(1)"
      ]
    },
    {
      "cell_type": "code",
      "execution_count": null,
      "metadata": {
        "id": "vBqQpSJ3GA49"
      },
      "outputs": [],
      "source": [
        "ppl = rdd.map(lambda x: Row(name=x[0], age=int(x[1])))"
      ]
    },
    {
      "cell_type": "code",
      "execution_count": null,
      "metadata": {
        "colab": {
          "base_uri": "https://localhost:8080/"
        },
        "id": "ixoJlSDKGI79",
        "outputId": "df474a8f-eb48-4ddd-e376-6f5b7eadaeaf"
      },
      "outputs": [
        {
          "data": {
            "text/plain": [
              "[('John', 19), ('Smith', 29)]"
            ]
          },
          "execution_count": 15,
          "metadata": {},
          "output_type": "execute_result"
        }
      ],
      "source": [
        "rdd.take(2)"
      ]
    },
    {
      "cell_type": "code",
      "execution_count": null,
      "metadata": {
        "id": "0UDr5iv1GK3K"
      },
      "outputs": [],
      "source": [
        "sqlContext.createDataFrame(ppl)\n",
        "list_p = [('John',19),('Smith',29),('Adam',35),('Henry',50)]\n",
        "rdd = sc.parallelize(list_p)\n",
        "ppl = rdd.map(lambda x: Row(name=x[0], age=int(x[1])))\n",
        "DF_ppl = sqlContext.createDataFrame(ppl)"
      ]
    },
    {
      "cell_type": "code",
      "execution_count": null,
      "metadata": {
        "colab": {
          "base_uri": "https://localhost:8080/"
        },
        "id": "54FpnWNvGMTS",
        "outputId": "be4ed06b-06ee-4134-e8d0-a6dc9416bcc0"
      },
      "outputs": [
        {
          "name": "stdout",
          "output_type": "stream",
          "text": [
            "root\n",
            " |-- name: string (nullable = true)\n",
            " |-- age: long (nullable = true)\n",
            "\n"
          ]
        }
      ],
      "source": [
        "DF_ppl.printSchema()"
      ]
    },
    {
      "cell_type": "code",
      "execution_count": null,
      "metadata": {
        "colab": {
          "base_uri": "https://localhost:8080/"
        },
        "id": "yeMSXIP2GwCm",
        "outputId": "0ff2befd-f886-477d-b58a-bad8a0633392"
      },
      "outputs": [
        {
          "name": "stderr",
          "output_type": "stream",
          "text": [
            "/usr/local/lib/python3.8/dist-packages/pyspark/sql/context.py:112: FutureWarning: Deprecated in 3.0.0. Use SparkSession.builder.getOrCreate() instead.\n",
            "  warnings.warn(\n"
          ]
        }
      ],
      "source": [
        "url = \"https://raw.githubusercontent.com/guru99-edu/R-Programming/master/adult_data.csv\"\n",
        "from pyspark import SparkFiles\n",
        "sc.addFile(url)\n",
        "sqlContext = SQLContext(sc)"
      ]
    },
    {
      "cell_type": "code",
      "execution_count": null,
      "metadata": {
        "id": "b793OCzNHB5A"
      },
      "outputs": [],
      "source": [
        "df = sqlContext.read.csv(SparkFiles.get(\"adult_data.csv\"), header=True, inferSchema= True)"
      ]
    },
    {
      "cell_type": "code",
      "execution_count": null,
      "metadata": {
        "colab": {
          "base_uri": "https://localhost:8080/"
        },
        "id": "M3OwACUjHKTM",
        "outputId": "bed92ad3-7eac-496b-972f-729908bfe607"
      },
      "outputs": [
        {
          "name": "stdout",
          "output_type": "stream",
          "text": [
            "root\n",
            " |-- x: integer (nullable = true)\n",
            " |-- age: integer (nullable = true)\n",
            " |-- workclass: string (nullable = true)\n",
            " |-- fnlwgt: integer (nullable = true)\n",
            " |-- education: string (nullable = true)\n",
            " |-- educational-num: integer (nullable = true)\n",
            " |-- marital-status: string (nullable = true)\n",
            " |-- occupation: string (nullable = true)\n",
            " |-- relationship: string (nullable = true)\n",
            " |-- race: string (nullable = true)\n",
            " |-- gender: string (nullable = true)\n",
            " |-- capital-gain: integer (nullable = true)\n",
            " |-- capital-loss: integer (nullable = true)\n",
            " |-- hours-per-week: integer (nullable = true)\n",
            " |-- native-country: string (nullable = true)\n",
            " |-- income: string (nullable = true)\n",
            "\n"
          ]
        }
      ],
      "source": [
        "df.printSchema()"
      ]
    },
    {
      "cell_type": "code",
      "execution_count": null,
      "metadata": {
        "colab": {
          "base_uri": "https://localhost:8080/"
        },
        "id": "W23prWG-HOiO",
        "outputId": "69ed080e-992f-4300-8f5e-c359ca38a1eb"
      },
      "outputs": [
        {
          "name": "stdout",
          "output_type": "stream",
          "text": [
            "+---+---+---------+------+------------+---------------+------------------+-----------------+------------+-----+------+------------+------------+--------------+--------------+------+\n",
            "|x  |age|workclass|fnlwgt|education   |educational-num|marital-status    |occupation       |relationship|race |gender|capital-gain|capital-loss|hours-per-week|native-country|income|\n",
            "+---+---+---------+------+------------+---------------+------------------+-----------------+------------+-----+------+------------+------------+--------------+--------------+------+\n",
            "|1  |25 |Private  |226802|11th        |7              |Never-married     |Machine-op-inspct|Own-child   |Black|Male  |0           |0           |40            |United-States |<=50K |\n",
            "|2  |38 |Private  |89814 |HS-grad     |9              |Married-civ-spouse|Farming-fishing  |Husband     |White|Male  |0           |0           |50            |United-States |<=50K |\n",
            "|3  |28 |Local-gov|336951|Assoc-acdm  |12             |Married-civ-spouse|Protective-serv  |Husband     |White|Male  |0           |0           |40            |United-States |>50K  |\n",
            "|4  |44 |Private  |160323|Some-college|10             |Married-civ-spouse|Machine-op-inspct|Husband     |Black|Male  |7688        |0           |40            |United-States |>50K  |\n",
            "|5  |18 |?        |103497|Some-college|10             |Never-married     |?                |Own-child   |White|Female|0           |0           |30            |United-States |<=50K |\n",
            "+---+---+---------+------+------------+---------------+------------------+-----------------+------------+-----+------+------------+------------+--------------+--------------+------+\n",
            "only showing top 5 rows\n",
            "\n"
          ]
        }
      ],
      "source": [
        "df.show(5, truncate = False)"
      ]
    },
    {
      "cell_type": "code",
      "execution_count": null,
      "metadata": {
        "colab": {
          "base_uri": "https://localhost:8080/"
        },
        "id": "DbSQ03w8HUG6",
        "outputId": "fc2e79d4-a84f-47bb-9ccb-8e1a9bf55eea"
      },
      "outputs": [
        {
          "name": "stdout",
          "output_type": "stream",
          "text": [
            "root\n",
            " |-- x: string (nullable = true)\n",
            " |-- age: string (nullable = true)\n",
            " |-- workclass: string (nullable = true)\n",
            " |-- fnlwgt: string (nullable = true)\n",
            " |-- education: string (nullable = true)\n",
            " |-- educational-num: string (nullable = true)\n",
            " |-- marital-status: string (nullable = true)\n",
            " |-- occupation: string (nullable = true)\n",
            " |-- relationship: string (nullable = true)\n",
            " |-- race: string (nullable = true)\n",
            " |-- gender: string (nullable = true)\n",
            " |-- capital-gain: string (nullable = true)\n",
            " |-- capital-loss: string (nullable = true)\n",
            " |-- hours-per-week: string (nullable = true)\n",
            " |-- native-country: string (nullable = true)\n",
            " |-- income: string (nullable = true)\n",
            "\n"
          ]
        }
      ],
      "source": [
        "df_string = sqlContext.read.csv(SparkFiles.get(\"adult_data.csv\"), header=True, inferSchema=  False)\n",
        "df_string.printSchema()"
      ]
    },
    {
      "cell_type": "code",
      "execution_count": null,
      "metadata": {
        "id": "NviZNESHH4ES"
      },
      "outputs": [],
      "source": []
    },
    {
      "cell_type": "code",
      "execution_count": null,
      "metadata": {
        "colab": {
          "base_uri": "https://localhost:8080/"
        },
        "id": "8do4z3EVIJDs",
        "outputId": "fb947f9e-ee89-4cc8-faa8-6b0d9126066c"
      },
      "outputs": [
        {
          "name": "stdout",
          "output_type": "stream",
          "text": [
            "+---+---+---------+------+------------+---------------+------------------+-----------------+------------+-----+------+------------+------------+--------------+--------------+------+\n",
            "|x  |age|workclass|fnlwgt|education   |educational-num|marital-status    |occupation       |relationship|race |gender|capital-gain|capital-loss|hours-per-week|native-country|income|\n",
            "+---+---+---------+------+------------+---------------+------------------+-----------------+------------+-----+------+------------+------------+--------------+--------------+------+\n",
            "|1  |25 |Private  |226802|11th        |7              |Never-married     |Machine-op-inspct|Own-child   |Black|Male  |0           |0           |40            |United-States |<=50K |\n",
            "|2  |38 |Private  |89814 |HS-grad     |9              |Married-civ-spouse|Farming-fishing  |Husband     |White|Male  |0           |0           |50            |United-States |<=50K |\n",
            "|3  |28 |Local-gov|336951|Assoc-acdm  |12             |Married-civ-spouse|Protective-serv  |Husband     |White|Male  |0           |0           |40            |United-States |>50K  |\n",
            "|4  |44 |Private  |160323|Some-college|10             |Married-civ-spouse|Machine-op-inspct|Husband     |Black|Male  |7688        |0           |40            |United-States |>50K  |\n",
            "|5  |18 |?        |103497|Some-college|10             |Never-married     |?                |Own-child   |White|Female|0           |0           |30            |United-States |<=50K |\n",
            "+---+---+---------+------+------------+---------------+------------------+-----------------+------------+-----+------+------------+------------+--------------+--------------+------+\n",
            "only showing top 5 rows\n",
            "\n"
          ]
        }
      ],
      "source": [
        "df.show(5, truncate = False)"
      ]
    },
    {
      "cell_type": "code",
      "execution_count": null,
      "metadata": {
        "colab": {
          "base_uri": "https://localhost:8080/"
        },
        "id": "IE-tHODBIJPm",
        "outputId": "ca162e65-18c9-4533-d612-ccced10aa87d"
      },
      "outputs": [
        {
          "name": "stdout",
          "output_type": "stream",
          "text": [
            "root\n",
            " |-- x: string (nullable = true)\n",
            " |-- age: float (nullable = true)\n",
            " |-- workclass: string (nullable = true)\n",
            " |-- fnlwgt: float (nullable = true)\n",
            " |-- education: string (nullable = true)\n",
            " |-- educational-num: float (nullable = true)\n",
            " |-- marital-status: string (nullable = true)\n",
            " |-- occupation: string (nullable = true)\n",
            " |-- relationship: string (nullable = true)\n",
            " |-- race: string (nullable = true)\n",
            " |-- gender: string (nullable = true)\n",
            " |-- capital-gain: float (nullable = true)\n",
            " |-- capital-loss: float (nullable = true)\n",
            " |-- hours-per-week: float (nullable = true)\n",
            " |-- native-country: string (nullable = true)\n",
            " |-- income: string (nullable = true)\n",
            "\n"
          ]
        }
      ],
      "source": [
        "# Import all from `sql.types`\n",
        "from pyspark.sql.types import *\n",
        "\n",
        "# Write a custom function to convert the data type of DataFrame columns\n",
        "def convertColumn(df, names, newType):\n",
        "    for name in names: \n",
        "        df = df.withColumn(name, df[name].cast(newType))\n",
        "    return df \n",
        "# List of continuous features\n",
        "CONTI_FEATURES  = ['age', 'fnlwgt','capital-gain', 'educational-num', 'capital-loss', 'hours-per-week']\n",
        "# Convert the type\n",
        "df_string = convertColumn(df_string, CONTI_FEATURES, FloatType())\n",
        "# Check the dataset\n",
        "df_string.printSchema()"
      ]
    },
    {
      "cell_type": "code",
      "execution_count": null,
      "metadata": {
        "colab": {
          "base_uri": "https://localhost:8080/"
        },
        "id": "IPyeLuabIOye",
        "outputId": "a561f1ba-fe6c-47df-fe8a-5c02c2af259c"
      },
      "outputs": [
        {
          "name": "stdout",
          "output_type": "stream",
          "text": [
            "root\n",
            " |-- x: integer (nullable = true)\n",
            " |-- age: integer (nullable = true)\n",
            " |-- workclass: string (nullable = true)\n",
            " |-- fnlwgt: integer (nullable = true)\n",
            " |-- education: string (nullable = true)\n",
            " |-- educational-num: integer (nullable = true)\n",
            " |-- marital-status: string (nullable = true)\n",
            " |-- occupation: string (nullable = true)\n",
            " |-- relationship: string (nullable = true)\n",
            " |-- race: string (nullable = true)\n",
            " |-- gender: string (nullable = true)\n",
            " |-- capital-gain: integer (nullable = true)\n",
            " |-- capital-loss: integer (nullable = true)\n",
            " |-- hours-per-week: integer (nullable = true)\n",
            " |-- native-country: string (nullable = true)\n",
            " |-- income: string (nullable = true)\n",
            "\n"
          ]
        }
      ],
      "source": [
        "df.printSchema()"
      ]
    },
    {
      "cell_type": "code",
      "execution_count": null,
      "metadata": {
        "colab": {
          "base_uri": "https://localhost:8080/"
        },
        "id": "RUIpfMkJIprk",
        "outputId": "0930a6d9-3f93-4ef1-d24e-f49e4a831874"
      },
      "outputs": [
        {
          "name": "stdout",
          "output_type": "stream",
          "text": [
            "+---+------+\n",
            "|age|fnlwgt|\n",
            "+---+------+\n",
            "| 25|226802|\n",
            "| 38| 89814|\n",
            "| 28|336951|\n",
            "| 44|160323|\n",
            "| 18|103497|\n",
            "+---+------+\n",
            "only showing top 5 rows\n",
            "\n"
          ]
        }
      ],
      "source": [
        "df.select('age','fnlwgt').show(5)"
      ]
    },
    {
      "cell_type": "code",
      "execution_count": null,
      "metadata": {
        "colab": {
          "base_uri": "https://localhost:8080/"
        },
        "id": "C5X6d4VaIu8i",
        "outputId": "a4cf11bf-f879-4929-809f-3a5c0d64e476"
      },
      "outputs": [
        {
          "name": "stdout",
          "output_type": "stream",
          "text": [
            "+------------+-----+\n",
            "|   education|count|\n",
            "+------------+-----+\n",
            "|   Preschool|   83|\n",
            "|     1st-4th|  247|\n",
            "|     5th-6th|  509|\n",
            "|   Doctorate|  594|\n",
            "|        12th|  657|\n",
            "|         9th|  756|\n",
            "| Prof-school|  834|\n",
            "|     7th-8th|  955|\n",
            "|        10th| 1389|\n",
            "|  Assoc-acdm| 1601|\n",
            "|        11th| 1812|\n",
            "|   Assoc-voc| 2061|\n",
            "|     Masters| 2657|\n",
            "|   Bachelors| 8025|\n",
            "|Some-college|10878|\n",
            "|     HS-grad|15784|\n",
            "+------------+-----+\n",
            "\n"
          ]
        }
      ],
      "source": [
        "df.groupBy(\"education\").count().sort(\"count\",ascending=True).show()"
      ]
    },
    {
      "cell_type": "code",
      "execution_count": null,
      "metadata": {
        "colab": {
          "base_uri": "https://localhost:8080/"
        },
        "id": "vlJBRgUcI1KW",
        "outputId": "d01fee28-2511-48d3-e7be-e7eba3e066aa"
      },
      "outputs": [
        {
          "data": {
            "text/plain": [
              "48842"
            ]
          },
          "execution_count": 28,
          "metadata": {},
          "output_type": "execute_result"
        }
      ],
      "source": [
        "df.count()"
      ]
    },
    {
      "cell_type": "code",
      "execution_count": null,
      "metadata": {
        "colab": {
          "base_uri": "https://localhost:8080/"
        },
        "id": "ASdmA6tyI-R8",
        "outputId": "b8e21f61-8a98-4523-8bee-7e657d623132"
      },
      "outputs": [
        {
          "name": "stdout",
          "output_type": "stream",
          "text": [
            "+-------+------------------+------------------+-----------+------------------+------------+------------------+--------------+----------------+------------+------------------+------+------------------+-----------------+------------------+--------------+------+\n",
            "|summary|                 x|               age|  workclass|            fnlwgt|   education|   educational-num|marital-status|      occupation|relationship|              race|gender|      capital-gain|     capital-loss|    hours-per-week|native-country|income|\n",
            "+-------+------------------+------------------+-----------+------------------+------------+------------------+--------------+----------------+------------+------------------+------+------------------+-----------------+------------------+--------------+------+\n",
            "|  count|             48842|             48842|      48842|             48842|       48842|             48842|         48842|           48842|       48842|             48842| 48842|             48842|            48842|             48842|         48842| 48842|\n",
            "|   mean|           24421.5| 38.64358543876172|       null|189664.13459727284|        null|10.078088530363212|          null|            null|        null|              null|  null|1079.0676262233324|87.50231358257237|40.422382375824085|          null|  null|\n",
            "| stddev|14099.615260708357|13.710509934443502|       null|105604.02542315757|        null| 2.570972755592252|          null|            null|        null|              null|  null| 7452.019057655413|403.0045521243591|12.391444024252289|          null|  null|\n",
            "|    min|                 1|                17|          ?|             12285|        10th|                 1|      Divorced|               ?|     Husband|Amer-Indian-Eskimo|Female|                 0|                0|                 1|             ?| <=50K|\n",
            "|    max|             48842|                90|Without-pay|           1490400|Some-college|                16|       Widowed|Transport-moving|        Wife|             White|  Male|             99999|             4356|                99|    Yugoslavia|  >50K|\n",
            "+-------+------------------+------------------+-----------+------------------+------------+------------------+--------------+----------------+------------+------------------+------+------------------+-----------------+------------------+--------------+------+\n",
            "\n"
          ]
        }
      ],
      "source": [
        "df.describe().show()"
      ]
    },
    {
      "cell_type": "code",
      "execution_count": null,
      "metadata": {
        "colab": {
          "base_uri": "https://localhost:8080/"
        },
        "id": "0Dwcl6XkJFhe",
        "outputId": "91a0d1af-3e34-4b21-8068-99e8fd5482d1"
      },
      "outputs": [
        {
          "name": "stdout",
          "output_type": "stream",
          "text": [
            "+-------+------------------+\n",
            "|summary|      capital-gain|\n",
            "+-------+------------------+\n",
            "|  count|             48842|\n",
            "|   mean|1079.0676262233324|\n",
            "| stddev| 7452.019057655413|\n",
            "|    min|                 0|\n",
            "|    max|             99999|\n",
            "+-------+------------------+\n",
            "\n"
          ]
        }
      ],
      "source": [
        "df.describe('capital-gain').show()"
      ]
    },
    {
      "cell_type": "code",
      "execution_count": null,
      "metadata": {
        "colab": {
          "base_uri": "https://localhost:8080/"
        },
        "id": "QsyV-2xwJPWy",
        "outputId": "c3cd7298-9a86-489b-ea12-a73a9d4394ef"
      },
      "outputs": [
        {
          "name": "stdout",
          "output_type": "stream",
          "text": [
            "+----------+-----+----+\n",
            "|age_income|<=50K|>50K|\n",
            "+----------+-----+----+\n",
            "|        17|  595|   0|\n",
            "|        18|  862|   0|\n",
            "|        19| 1050|   3|\n",
            "|        20| 1112|   1|\n",
            "|        21| 1090|   6|\n",
            "|        22| 1161|  17|\n",
            "|        23| 1307|  22|\n",
            "|        24| 1162|  44|\n",
            "|        25| 1119|  76|\n",
            "|        26| 1068|  85|\n",
            "|        27| 1117| 115|\n",
            "|        28| 1101| 179|\n",
            "|        29| 1025| 198|\n",
            "|        30| 1031| 247|\n",
            "|        31| 1050| 275|\n",
            "|        32|  957| 296|\n",
            "|        33| 1045| 290|\n",
            "|        34|  949| 354|\n",
            "|        35|  997| 340|\n",
            "|        36|  948| 400|\n",
            "+----------+-----+----+\n",
            "only showing top 20 rows\n",
            "\n"
          ]
        }
      ],
      "source": [
        "df.crosstab('age', 'income').sort(\"age_income\").show()"
      ]
    },
    {
      "cell_type": "code",
      "execution_count": null,
      "metadata": {
        "colab": {
          "base_uri": "https://localhost:8080/"
        },
        "id": "geqNzw34J1zJ",
        "outputId": "ff791810-a92f-4441-b9d3-e0c5cfa98133"
      },
      "outputs": [
        {
          "data": {
            "text/plain": [
              "20211"
            ]
          },
          "execution_count": 32,
          "metadata": {},
          "output_type": "execute_result"
        }
      ],
      "source": [
        "df.filter(df.age > 40).count()"
      ]
    },
    {
      "cell_type": "code",
      "execution_count": null,
      "metadata": {
        "colab": {
          "base_uri": "https://localhost:8080/"
        },
        "id": "yyCAdi7UKSQn",
        "outputId": "711c0c68-9c69-433f-82ed-aa58875f9f26"
      },
      "outputs": [
        {
          "name": "stdout",
          "output_type": "stream",
          "text": [
            "+--------------------+------------------+\n",
            "|      marital-status| avg(capital-gain)|\n",
            "+--------------------+------------------+\n",
            "|           Separated| 581.8424836601307|\n",
            "|       Never-married|  384.382639449029|\n",
            "|Married-spouse-ab...| 629.0047770700637|\n",
            "|            Divorced| 793.6755615860094|\n",
            "|             Widowed| 603.6442687747035|\n",
            "|   Married-AF-spouse|2971.6216216216217|\n",
            "|  Married-civ-spouse|1739.7006121810625|\n",
            "+--------------------+------------------+\n",
            "\n"
          ]
        }
      ],
      "source": [
        "df.groupby('marital-status').agg({'capital-gain': 'mean'}).show()"
      ]
    },
    {
      "cell_type": "code",
      "execution_count": null,
      "metadata": {
        "colab": {
          "base_uri": "https://localhost:8080/"
        },
        "id": "TcR3-z6rKe1V",
        "outputId": "5d298705-e881-46a1-86fb-c05dde46a516"
      },
      "outputs": [
        {
          "name": "stdout",
          "output_type": "stream",
          "text": [
            "root\n",
            " |-- x: integer (nullable = true)\n",
            " |-- age: integer (nullable = true)\n",
            " |-- workclass: string (nullable = true)\n",
            " |-- fnlwgt: integer (nullable = true)\n",
            " |-- education: string (nullable = true)\n",
            " |-- educational-num: integer (nullable = true)\n",
            " |-- marital-status: string (nullable = true)\n",
            " |-- occupation: string (nullable = true)\n",
            " |-- relationship: string (nullable = true)\n",
            " |-- race: string (nullable = true)\n",
            " |-- gender: string (nullable = true)\n",
            " |-- capital-gain: integer (nullable = true)\n",
            " |-- capital-loss: integer (nullable = true)\n",
            " |-- hours-per-week: integer (nullable = true)\n",
            " |-- native-country: string (nullable = true)\n",
            " |-- income: string (nullable = true)\n",
            " |-- age-square: double (nullable = true)\n",
            "\n"
          ]
        }
      ],
      "source": [
        "from pyspark.sql.functions import *\n",
        "\n",
        "# 1 Select the column\n",
        "age_square = df.select(col(\"age\")**2)\n",
        "\n",
        "# 2 Apply the transformation and add it to the DataFrame\n",
        "df = df.withColumn(\"age-square\", col(\"age\")**2)\n",
        "\n",
        "df.printSchema()"
      ]
    },
    {
      "cell_type": "code",
      "execution_count": null,
      "metadata": {
        "colab": {
          "base_uri": "https://localhost:8080/"
        },
        "id": "P2a_IdZuK9s4",
        "outputId": "6571c820-3807-4b62-a2de-523674e7b7b3"
      },
      "outputs": [
        {
          "data": {
            "text/plain": [
              "Row(age=25, age-square=625.0, workclass='Private', fnlwgt=226802, education='11th', educational-num=7, marital-status='Never-married', occupation='Machine-op-inspct', relationship='Own-child', race='Black', gender='Male', capital-gain=0, capital-loss=0, hours-per-week=40, native-country='United-States', income='<=50K')"
            ]
          },
          "execution_count": 35,
          "metadata": {},
          "output_type": "execute_result"
        }
      ],
      "source": [
        "COLUMNS = ['age', 'age-square', 'workclass', 'fnlwgt', 'education', 'educational-num', 'marital-status',\n",
        "           'occupation', 'relationship', 'race', 'gender', 'capital-gain', 'capital-loss',\n",
        "           'hours-per-week', 'native-country', 'income']\n",
        "df = df.select(COLUMNS)\n",
        "df.first()"
      ]
    },
    {
      "cell_type": "code",
      "execution_count": null,
      "metadata": {
        "colab": {
          "base_uri": "https://localhost:8080/"
        },
        "id": "f8FHlo5iLPax",
        "outputId": "ccfb0712-3778-4b4e-b576-b3b46b94f432"
      },
      "outputs": [
        {
          "name": "stdout",
          "output_type": "stream",
          "text": [
            "+---+----------+---------+------+------------+---------------+------------------+-----------------+------------+-----+------+------------+------------+--------------+--------------+------+\n",
            "|age|age-square|workclass|fnlwgt|education   |educational-num|marital-status    |occupation       |relationship|race |gender|capital-gain|capital-loss|hours-per-week|native-country|income|\n",
            "+---+----------+---------+------+------------+---------------+------------------+-----------------+------------+-----+------+------------+------------+--------------+--------------+------+\n",
            "|25 |625.0     |Private  |226802|11th        |7              |Never-married     |Machine-op-inspct|Own-child   |Black|Male  |0           |0           |40            |United-States |<=50K |\n",
            "|38 |1444.0    |Private  |89814 |HS-grad     |9              |Married-civ-spouse|Farming-fishing  |Husband     |White|Male  |0           |0           |50            |United-States |<=50K |\n",
            "|28 |784.0     |Local-gov|336951|Assoc-acdm  |12             |Married-civ-spouse|Protective-serv  |Husband     |White|Male  |0           |0           |40            |United-States |>50K  |\n",
            "|44 |1936.0    |Private  |160323|Some-college|10             |Married-civ-spouse|Machine-op-inspct|Husband     |Black|Male  |7688        |0           |40            |United-States |>50K  |\n",
            "|18 |324.0     |?        |103497|Some-college|10             |Never-married     |?                |Own-child   |White|Female|0           |0           |30            |United-States |<=50K |\n",
            "+---+----------+---------+------+------------+---------------+------------------+-----------------+------------+-----+------+------------+------------+--------------+--------------+------+\n",
            "only showing top 5 rows\n",
            "\n"
          ]
        }
      ],
      "source": [
        "df.show(5, truncate=False)"
      ]
    },
    {
      "cell_type": "code",
      "execution_count": null,
      "metadata": {
        "colab": {
          "base_uri": "https://localhost:8080/"
        },
        "id": "DdiB3TQGLfbr",
        "outputId": "d32c3433-665d-46e8-baa9-a9802e1eb142"
      },
      "outputs": [
        {
          "name": "stdout",
          "output_type": "stream",
          "text": [
            "+--------------------+---------------------+\n",
            "|      native-country|count(native-country)|\n",
            "+--------------------+---------------------+\n",
            "|  Holand-Netherlands|                    1|\n",
            "|             Hungary|                   19|\n",
            "|            Honduras|                   20|\n",
            "|            Scotland|                   21|\n",
            "|          Yugoslavia|                   23|\n",
            "|Outlying-US(Guam-...|                   23|\n",
            "|                Laos|                   23|\n",
            "|     Trinadad&Tobago|                   27|\n",
            "|            Cambodia|                   28|\n",
            "|                Hong|                   30|\n",
            "|            Thailand|                   30|\n",
            "|             Ireland|                   37|\n",
            "|              France|                   38|\n",
            "|             Ecuador|                   45|\n",
            "|                Peru|                   46|\n",
            "|              Greece|                   49|\n",
            "|           Nicaragua|                   49|\n",
            "|                Iran|                   59|\n",
            "|              Taiwan|                   65|\n",
            "|            Portugal|                   67|\n",
            "+--------------------+---------------------+\n",
            "only showing top 20 rows\n",
            "\n"
          ]
        }
      ],
      "source": [
        "#df.filter(df.native-country == 'Holand-Netherlands').count()\n",
        "df.groupby('native-country').agg({'native-country': 'count'}).sort(asc(\"count(native-country)\")).show()"
      ]
    },
    {
      "cell_type": "code",
      "execution_count": null,
      "metadata": {
        "id": "hRdS1is9Lvwf"
      },
      "outputs": [],
      "source": []
    },
    {
      "cell_type": "code",
      "execution_count": null,
      "metadata": {
        "colab": {
          "base_uri": "https://localhost:8080/"
        },
        "id": "SF1fArHvMUzq",
        "outputId": "d5ae7df4-8962-4c70-e401-5638bb2f6153"
      },
      "outputs": [
        {
          "data": {
            "text/plain": [
              "1"
            ]
          },
          "execution_count": 38,
          "metadata": {},
          "output_type": "execute_result"
        }
      ],
      "source": [
        "df.filter(df[\"native-country\"] == 'Holand-Netherlands').count()\n"
      ]
    },
    {
      "cell_type": "code",
      "execution_count": null,
      "metadata": {
        "id": "RACjvxdLMZqa"
      },
      "outputs": [],
      "source": [
        "df_remove = df.filter(df[\"native-country\"] !=\t'Holand-Netherlands')"
      ]
    },
    {
      "cell_type": "code",
      "execution_count": null,
      "metadata": {
        "colab": {
          "base_uri": "https://localhost:8080/"
        },
        "id": "gFmvTPbNMmVJ",
        "outputId": "5d30237c-cce7-490c-b0c6-fd9cc4db824f"
      },
      "outputs": [
        {
          "name": "stdout",
          "output_type": "stream",
          "text": [
            "+---+----------+---------+------+------------+---------------+------------------+-----------------+------------+-----+------+------------+------------+--------------+--------------+------+-----------------+-------------+\n",
            "|age|age-square|workclass|fnlwgt|education   |educational-num|marital-status    |occupation       |relationship|race |gender|capital-gain|capital-loss|hours-per-week|native-country|income|workclass_encoded|workclass_vec|\n",
            "+---+----------+---------+------+------------+---------------+------------------+-----------------+------------+-----+------+------------+------------+--------------+--------------+------+-----------------+-------------+\n",
            "|25 |625.0     |Private  |226802|11th        |7              |Never-married     |Machine-op-inspct|Own-child   |Black|Male  |0           |0           |40            |United-States |<=50K |0.0              |(9,[0],[1.0])|\n",
            "|38 |1444.0    |Private  |89814 |HS-grad     |9              |Married-civ-spouse|Farming-fishing  |Husband     |White|Male  |0           |0           |50            |United-States |<=50K |0.0              |(9,[0],[1.0])|\n",
            "|28 |784.0     |Local-gov|336951|Assoc-acdm  |12             |Married-civ-spouse|Protective-serv  |Husband     |White|Male  |0           |0           |40            |United-States |>50K  |2.0              |(9,[2],[1.0])|\n",
            "|44 |1936.0    |Private  |160323|Some-college|10             |Married-civ-spouse|Machine-op-inspct|Husband     |Black|Male  |7688        |0           |40            |United-States |>50K  |0.0              |(9,[0],[1.0])|\n",
            "|18 |324.0     |?        |103497|Some-college|10             |Never-married     |?                |Own-child   |White|Female|0           |0           |30            |United-States |<=50K |3.0              |(9,[3],[1.0])|\n",
            "+---+----------+---------+------+------------+---------------+------------------+-----------------+------------+-----+------+------------+------------+--------------+--------------+------+-----------------+-------------+\n",
            "only showing top 5 rows\n",
            "\n"
          ]
        }
      ],
      "source": [
        "from pyspark.ml.feature import StringIndexer, OneHotEncoder, VectorAssembler\n",
        "\n",
        "stringIndexer = StringIndexer(inputCol=\"workclass\", outputCol=\"workclass_encoded\")\n",
        "model = stringIndexer.fit(df)\n",
        "indexed = model.transform(df)\n",
        "encoder = OneHotEncoder(dropLast=False, inputCol=\"workclass_encoded\", outputCol=\"workclass_vec\")\n",
        "encoder_model = encoder.fit(indexed)\n",
        "encoded = encoder_model.transform(indexed)\n",
        "encoded.show(5, truncate=False)"
      ]
    },
    {
      "cell_type": "code",
      "execution_count": null,
      "metadata": {
        "id": "D0OwdanSM3ao"
      },
      "outputs": [],
      "source": [
        "from pyspark.ml import Pipeline\n",
        "from pyspark.ml.feature import OneHotEncoder\n",
        "CATE_FEATURES = ['workclass', 'education', 'marital-status', 'occupation', 'relationship', 'race', 'gender', 'native-country']\n",
        "stages = [] # stages in our Pipeline\n",
        "for categoricalCol in CATE_FEATURES:\n",
        "    stringIndexer = StringIndexer(inputCol=categoricalCol, outputCol=categoricalCol + \"Index\")\n",
        "    encoder = OneHotEncoder(inputCols=[stringIndexer.getOutputCol()],\n",
        "                                     outputCols=[categoricalCol + \"classVec\"])\n",
        "    stages += [stringIndexer, encoder]"
      ]
    },
    {
      "cell_type": "code",
      "execution_count": null,
      "metadata": {
        "id": "SY5NWk7mN8tw"
      },
      "outputs": [],
      "source": [
        "# Convert label into label indices using the StringIndexer\n",
        "label_stringIdx =  StringIndexer(inputCol=\"income\", outputCol=\"newincome\")\n",
        "stages += [label_stringIdx]"
      ]
    },
    {
      "cell_type": "code",
      "execution_count": null,
      "metadata": {
        "id": "6hmyWnGnOgop"
      },
      "outputs": [],
      "source": [
        "assemblerInputs = [c + \"classVec\" for c in CATE_FEATURES] + CONTI_FEATURES"
      ]
    },
    {
      "cell_type": "code",
      "execution_count": null,
      "metadata": {
        "id": "rhUBiJfUTYGn"
      },
      "outputs": [],
      "source": [
        "assembler = VectorAssembler(inputCols=assemblerInputs, outputCol=\"features\")"
      ]
    },
    {
      "cell_type": "code",
      "execution_count": null,
      "metadata": {
        "id": "hH49IA0aTf4R"
      },
      "outputs": [],
      "source": [
        "stages += [assembler]"
      ]
    },
    {
      "cell_type": "code",
      "execution_count": null,
      "metadata": {
        "id": "FL-Lq3zzTinL"
      },
      "outputs": [],
      "source": [
        "# Create a Pipeline.\n",
        "pipeline = Pipeline(stages=stages)\n",
        "pipelineModel = pipeline.fit(df_remove)\n",
        "model = pipelineModel.transform(df_remove)"
      ]
    },
    {
      "cell_type": "code",
      "execution_count": null,
      "metadata": {
        "colab": {
          "base_uri": "https://localhost:8080/"
        },
        "id": "hwbotLqJTjlO",
        "outputId": "2204715e-8444-40dc-b644-c27ddab26a54"
      },
      "outputs": [
        {
          "data": {
            "text/plain": [
              "[Row(age=25, age-square=625.0, workclass='Private', fnlwgt=226802, education='11th', educational-num=7, marital-status='Never-married', occupation='Machine-op-inspct', relationship='Own-child', race='Black', gender='Male', capital-gain=0, capital-loss=0, hours-per-week=40, native-country='United-States', income='<=50K', workclassIndex=0.0, workclassclassVec=SparseVector(8, {0: 1.0}), educationIndex=5.0, educationclassVec=SparseVector(15, {5: 1.0}), marital-statusIndex=1.0, marital-statusclassVec=SparseVector(6, {1: 1.0}), occupationIndex=6.0, occupationclassVec=SparseVector(14, {6: 1.0}), relationshipIndex=2.0, relationshipclassVec=SparseVector(5, {2: 1.0}), raceIndex=1.0, raceclassVec=SparseVector(4, {1: 1.0}), genderIndex=0.0, genderclassVec=SparseVector(1, {0: 1.0}), native-countryIndex=0.0, native-countryclassVec=SparseVector(40, {0: 1.0}), newincome=0.0, features=SparseVector(99, {0: 1.0, 13: 1.0, 24: 1.0, 35: 1.0, 45: 1.0, 49: 1.0, 52: 1.0, 53: 1.0, 93: 25.0, 94: 226802.0, 96: 7.0, 98: 40.0}))]"
            ]
          },
          "execution_count": 47,
          "metadata": {},
          "output_type": "execute_result"
        }
      ],
      "source": [
        "model.take(1)"
      ]
    },
    {
      "cell_type": "code",
      "execution_count": null,
      "metadata": {
        "colab": {
          "base_uri": "https://localhost:8080/"
        },
        "id": "LTIua9RnUTGE",
        "outputId": "64b42042-5fc7-4198-8148-7249a2153b68"
      },
      "outputs": [
        {
          "name": "stdout",
          "output_type": "stream",
          "text": [
            "+---+----------+---------+------+------------+---------------+------------------+-----------------+------------+-----+------+------------+------------+--------------+--------------+------+--------------+-----------------+--------------+-----------------+-------------------+----------------------+---------------+------------------+-----------------+--------------------+---------+-------------+-----------+--------------+-------------------+----------------------+---------+------------------------------------------------------------------------------------------------------------+\n",
            "|age|age-square|workclass|fnlwgt|education   |educational-num|marital-status    |occupation       |relationship|race |gender|capital-gain|capital-loss|hours-per-week|native-country|income|workclassIndex|workclassclassVec|educationIndex|educationclassVec|marital-statusIndex|marital-statusclassVec|occupationIndex|occupationclassVec|relationshipIndex|relationshipclassVec|raceIndex|raceclassVec |genderIndex|genderclassVec|native-countryIndex|native-countryclassVec|newincome|features                                                                                                    |\n",
            "+---+----------+---------+------+------------+---------------+------------------+-----------------+------------+-----+------+------------+------------+--------------+--------------+------+--------------+-----------------+--------------+-----------------+-------------------+----------------------+---------------+------------------+-----------------+--------------------+---------+-------------+-----------+--------------+-------------------+----------------------+---------+------------------------------------------------------------------------------------------------------------+\n",
            "|25 |625.0     |Private  |226802|11th        |7              |Never-married     |Machine-op-inspct|Own-child   |Black|Male  |0           |0           |40            |United-States |<=50K |0.0           |(8,[0],[1.0])    |5.0           |(15,[5],[1.0])   |1.0                |(6,[1],[1.0])         |6.0            |(14,[6],[1.0])    |2.0              |(5,[2],[1.0])       |1.0      |(4,[1],[1.0])|0.0        |(1,[0],[1.0]) |0.0                |(40,[0],[1.0])        |0.0      |(99,[0,13,24,35,45,49,52,53,93,94,96,98],[1.0,1.0,1.0,1.0,1.0,1.0,1.0,1.0,25.0,226802.0,7.0,40.0])          |\n",
            "|38 |1444.0    |Private  |89814 |HS-grad     |9              |Married-civ-spouse|Farming-fishing  |Husband     |White|Male  |0           |0           |50            |United-States |<=50K |0.0           |(8,[0],[1.0])    |0.0           |(15,[0],[1.0])   |0.0                |(6,[0],[1.0])         |10.0           |(14,[10],[1.0])   |0.0              |(5,[0],[1.0])       |0.0      |(4,[0],[1.0])|0.0        |(1,[0],[1.0]) |0.0                |(40,[0],[1.0])        |0.0      |(99,[0,8,23,39,43,48,52,53,93,94,96,98],[1.0,1.0,1.0,1.0,1.0,1.0,1.0,1.0,38.0,89814.0,9.0,50.0])            |\n",
            "|28 |784.0     |Local-gov|336951|Assoc-acdm  |12             |Married-civ-spouse|Protective-serv  |Husband     |White|Male  |0           |0           |40            |United-States |>50K  |2.0           |(8,[2],[1.0])    |6.0           |(15,[6],[1.0])   |0.0                |(6,[0],[1.0])         |12.0           |(14,[12],[1.0])   |0.0              |(5,[0],[1.0])       |0.0      |(4,[0],[1.0])|0.0        |(1,[0],[1.0]) |0.0                |(40,[0],[1.0])        |1.0      |(99,[2,14,23,41,43,48,52,53,93,94,96,98],[1.0,1.0,1.0,1.0,1.0,1.0,1.0,1.0,28.0,336951.0,12.0,40.0])         |\n",
            "|44 |1936.0    |Private  |160323|Some-college|10             |Married-civ-spouse|Machine-op-inspct|Husband     |Black|Male  |7688        |0           |40            |United-States |>50K  |0.0           |(8,[0],[1.0])    |1.0           |(15,[1],[1.0])   |0.0                |(6,[0],[1.0])         |6.0            |(14,[6],[1.0])    |0.0              |(5,[0],[1.0])       |1.0      |(4,[1],[1.0])|0.0        |(1,[0],[1.0]) |0.0                |(40,[0],[1.0])        |1.0      |(99,[0,9,23,35,43,49,52,53,93,94,95,96,98],[1.0,1.0,1.0,1.0,1.0,1.0,1.0,1.0,44.0,160323.0,7688.0,10.0,40.0])|\n",
            "|18 |324.0     |?        |103497|Some-college|10             |Never-married     |?                |Own-child   |White|Female|0           |0           |30            |United-States |<=50K |3.0           |(8,[3],[1.0])    |1.0           |(15,[1],[1.0])   |1.0                |(6,[1],[1.0])         |7.0            |(14,[7],[1.0])    |2.0              |(5,[2],[1.0])       |0.0      |(4,[0],[1.0])|1.0        |(1,[],[])     |0.0                |(40,[0],[1.0])        |0.0      |(99,[3,9,24,36,45,48,53,93,94,96,98],[1.0,1.0,1.0,1.0,1.0,1.0,1.0,18.0,103497.0,10.0,30.0])                 |\n",
            "+---+----------+---------+------+------------+---------------+------------------+-----------------+------------+-----+------+------------+------------+--------------+--------------+------+--------------+-----------------+--------------+-----------------+-------------------+----------------------+---------------+------------------+-----------------+--------------------+---------+-------------+-----------+--------------+-------------------+----------------------+---------+------------------------------------------------------------------------------------------------------------+\n",
            "only showing top 5 rows\n",
            "\n"
          ]
        }
      ],
      "source": [
        "model.show(5,truncate=False)"
      ]
    },
    {
      "cell_type": "code",
      "execution_count": null,
      "metadata": {
        "id": "2aIolR5ZUZ80"
      },
      "outputs": [],
      "source": [
        "### Modele\n",
        "from pyspark.ml.linalg import DenseVector\n",
        "input_data = model.rdd.map(lambda x: (x[\"newincome\"], DenseVector(x[\"features\"])))"
      ]
    },
    {
      "cell_type": "code",
      "execution_count": null,
      "metadata": {
        "id": "s0BCUgWtVlct"
      },
      "outputs": [],
      "source": [
        "df_train = sqlContext.createDataFrame(input_data, [\"newincome\", \"features\"])"
      ]
    },
    {
      "cell_type": "code",
      "execution_count": null,
      "metadata": {
        "colab": {
          "base_uri": "https://localhost:8080/"
        },
        "id": "H835tuQjWVNR",
        "outputId": "c4d67a7c-551a-4b75-e676-955ba880877b"
      },
      "outputs": [
        {
          "name": "stdout",
          "output_type": "stream",
          "text": [
            "+---------+------------------------------------------------------------------------------------------------------------------------------------------------------------------------------------------------------------------------------------------------------------------------------------------------------------------------------------------------------------------------------------------------------------------------+\n",
            "|newincome|features                                                                                                                                                                                                                                                                                                                                                                                                                |\n",
            "+---------+------------------------------------------------------------------------------------------------------------------------------------------------------------------------------------------------------------------------------------------------------------------------------------------------------------------------------------------------------------------------------------------------------------------------+\n",
            "|0.0      |[1.0,0.0,0.0,0.0,0.0,0.0,0.0,0.0,0.0,0.0,0.0,0.0,0.0,1.0,0.0,0.0,0.0,0.0,0.0,0.0,0.0,0.0,0.0,0.0,1.0,0.0,0.0,0.0,0.0,0.0,0.0,0.0,0.0,0.0,0.0,1.0,0.0,0.0,0.0,0.0,0.0,0.0,0.0,0.0,0.0,1.0,0.0,0.0,0.0,1.0,0.0,0.0,1.0,1.0,0.0,0.0,0.0,0.0,0.0,0.0,0.0,0.0,0.0,0.0,0.0,0.0,0.0,0.0,0.0,0.0,0.0,0.0,0.0,0.0,0.0,0.0,0.0,0.0,0.0,0.0,0.0,0.0,0.0,0.0,0.0,0.0,0.0,0.0,0.0,0.0,0.0,0.0,0.0,25.0,226802.0,0.0,7.0,0.0,40.0]    |\n",
            "|0.0      |[1.0,0.0,0.0,0.0,0.0,0.0,0.0,0.0,1.0,0.0,0.0,0.0,0.0,0.0,0.0,0.0,0.0,0.0,0.0,0.0,0.0,0.0,0.0,1.0,0.0,0.0,0.0,0.0,0.0,0.0,0.0,0.0,0.0,0.0,0.0,0.0,0.0,0.0,0.0,1.0,0.0,0.0,0.0,1.0,0.0,0.0,0.0,0.0,1.0,0.0,0.0,0.0,1.0,1.0,0.0,0.0,0.0,0.0,0.0,0.0,0.0,0.0,0.0,0.0,0.0,0.0,0.0,0.0,0.0,0.0,0.0,0.0,0.0,0.0,0.0,0.0,0.0,0.0,0.0,0.0,0.0,0.0,0.0,0.0,0.0,0.0,0.0,0.0,0.0,0.0,0.0,0.0,0.0,38.0,89814.0,0.0,9.0,0.0,50.0]     |\n",
            "|1.0      |[0.0,0.0,1.0,0.0,0.0,0.0,0.0,0.0,0.0,0.0,0.0,0.0,0.0,0.0,1.0,0.0,0.0,0.0,0.0,0.0,0.0,0.0,0.0,1.0,0.0,0.0,0.0,0.0,0.0,0.0,0.0,0.0,0.0,0.0,0.0,0.0,0.0,0.0,0.0,0.0,0.0,1.0,0.0,1.0,0.0,0.0,0.0,0.0,1.0,0.0,0.0,0.0,1.0,1.0,0.0,0.0,0.0,0.0,0.0,0.0,0.0,0.0,0.0,0.0,0.0,0.0,0.0,0.0,0.0,0.0,0.0,0.0,0.0,0.0,0.0,0.0,0.0,0.0,0.0,0.0,0.0,0.0,0.0,0.0,0.0,0.0,0.0,0.0,0.0,0.0,0.0,0.0,0.0,28.0,336951.0,0.0,12.0,0.0,40.0]   |\n",
            "|1.0      |[1.0,0.0,0.0,0.0,0.0,0.0,0.0,0.0,0.0,1.0,0.0,0.0,0.0,0.0,0.0,0.0,0.0,0.0,0.0,0.0,0.0,0.0,0.0,1.0,0.0,0.0,0.0,0.0,0.0,0.0,0.0,0.0,0.0,0.0,0.0,1.0,0.0,0.0,0.0,0.0,0.0,0.0,0.0,1.0,0.0,0.0,0.0,0.0,0.0,1.0,0.0,0.0,1.0,1.0,0.0,0.0,0.0,0.0,0.0,0.0,0.0,0.0,0.0,0.0,0.0,0.0,0.0,0.0,0.0,0.0,0.0,0.0,0.0,0.0,0.0,0.0,0.0,0.0,0.0,0.0,0.0,0.0,0.0,0.0,0.0,0.0,0.0,0.0,0.0,0.0,0.0,0.0,0.0,44.0,160323.0,7688.0,10.0,0.0,40.0]|\n",
            "|0.0      |[0.0,0.0,0.0,1.0,0.0,0.0,0.0,0.0,0.0,1.0,0.0,0.0,0.0,0.0,0.0,0.0,0.0,0.0,0.0,0.0,0.0,0.0,0.0,0.0,1.0,0.0,0.0,0.0,0.0,0.0,0.0,0.0,0.0,0.0,0.0,0.0,1.0,0.0,0.0,0.0,0.0,0.0,0.0,0.0,0.0,1.0,0.0,0.0,1.0,0.0,0.0,0.0,0.0,1.0,0.0,0.0,0.0,0.0,0.0,0.0,0.0,0.0,0.0,0.0,0.0,0.0,0.0,0.0,0.0,0.0,0.0,0.0,0.0,0.0,0.0,0.0,0.0,0.0,0.0,0.0,0.0,0.0,0.0,0.0,0.0,0.0,0.0,0.0,0.0,0.0,0.0,0.0,0.0,18.0,103497.0,0.0,10.0,0.0,30.0]   |\n",
            "+---------+------------------------------------------------------------------------------------------------------------------------------------------------------------------------------------------------------------------------------------------------------------------------------------------------------------------------------------------------------------------------------------------------------------------------+\n",
            "only showing top 5 rows\n",
            "\n"
          ]
        }
      ],
      "source": [
        "df_train.show(5, truncate=False)"
      ]
    },
    {
      "cell_type": "code",
      "execution_count": null,
      "metadata": {
        "id": "br83VxmmXgAh"
      },
      "outputs": [],
      "source": [
        "# Split the data into train and test sets\n",
        "train_data, test_data = df_train.randomSplit([.8,.2],seed=1234)"
      ]
    },
    {
      "cell_type": "code",
      "execution_count": null,
      "metadata": {
        "colab": {
          "base_uri": "https://localhost:8080/"
        },
        "id": "kiLdhSboXnVg",
        "outputId": "dd352263-7a00-46f8-b796-11fb44c1a4ed"
      },
      "outputs": [
        {
          "name": "stdout",
          "output_type": "stream",
          "text": [
            "+---------+----------------+\n",
            "|newincome|count(newincome)|\n",
            "+---------+----------------+\n",
            "|      0.0|           29701|\n",
            "|      1.0|            9345|\n",
            "+---------+----------------+\n",
            "\n"
          ]
        }
      ],
      "source": [
        "train_data.groupby('newincome').agg({'newincome': 'count'}).show()"
      ]
    },
    {
      "cell_type": "code",
      "execution_count": null,
      "metadata": {
        "colab": {
          "base_uri": "https://localhost:8080/"
        },
        "id": "aoOMUZzEXyPD",
        "outputId": "c35ff519-43a2-4722-dd19-6c11a5681006"
      },
      "outputs": [
        {
          "name": "stdout",
          "output_type": "stream",
          "text": [
            "+---------+----------------+\n",
            "|newincome|count(newincome)|\n",
            "+---------+----------------+\n",
            "|      0.0|            7453|\n",
            "|      1.0|            2342|\n",
            "+---------+----------------+\n",
            "\n"
          ]
        }
      ],
      "source": [
        "test_data.groupby('newincome').agg({'newincome': 'count'}).show()"
      ]
    },
    {
      "cell_type": "code",
      "execution_count": null,
      "metadata": {
        "id": "mYaXiAjtYON2"
      },
      "outputs": [],
      "source": [
        "# Import `LinearRegression`\n",
        "from pyspark.ml.classification import LogisticRegression\n",
        "\n",
        "# Initialize `lr`\n",
        "lr = LogisticRegression(labelCol=\"newincome\",\n",
        "                        featuresCol=\"features\",\n",
        "                        maxIter=10,\n",
        "                        regParam=0.3)\n",
        "\n",
        "# Fit the data to the model\n",
        "linearModel = lr.fit(train_data)"
      ]
    },
    {
      "cell_type": "code",
      "execution_count": null,
      "metadata": {
        "colab": {
          "base_uri": "https://localhost:8080/"
        },
        "id": "uikQtWQ6YeEN",
        "outputId": "4c14c2e3-b100-4d34-8da3-12667fb2a9fb"
      },
      "outputs": [
        {
          "name": "stdout",
          "output_type": "stream",
          "text": [
            "Coefficients: [-0.01214505924991046,-0.06823860934764871,0.02590973176806412,-0.15292515783828683,-0.044840458857517224,0.27970562888971845,0.24647580835764304,-0.4560424712738613,-0.1365223031970391,-0.03315220059099741,0.22625745712162823,0.3701547467909734,0.0037020958989733704,-0.22829460750030028,0.019811878548210746,-0.23459262516102183,-0.2607630592044288,0.5250358407234751,-0.23543784877427493,-0.19113553874878203,0.5107503253509824,-0.22817086177572463,-0.2610155931858554,0.411606905887486,-0.31119334767374346,-0.18014793011827138,-0.18777770284996675,-0.15923275299794762,-0.15174412850202196,0.24989942019871186,-0.03146648002530881,0.33886264346132794,-0.09526103834724899,0.06129512879112693,-0.25564705012497235,-0.16869242642823615,-0.15344218378465108,-0.06958149377296703,-0.2180335954061276,-0.2754137819908856,0.10549640739397056,0.11078385575328129,-0.22011813710286274,0.3434580549808888,-0.19388305268234202,-0.27958466874037746,-0.2138644021840045,0.4479481504436871,0.08266063744191232,-0.09531545087539817,0.021102518841867746,-0.13716035306860755,0.18470417478812573,0.06502365577568972,-0.2440797873421412,-0.008616558367507675,0.12934236080379014,0.050404707622375436,-0.12368634936256391,0.1749344392241055,-0.141613786148262,0.09275816076150153,-0.05279970244569329,0.17602868472075686,-0.04968940279856428,-0.12543845657689082,-0.012887808017863583,0.09689321063735595,-0.21058907263867757,0.13352718418824877,-0.1852965092256719,-0.05635127472698804,-0.25640530857992394,-0.33594782591903377,-0.1429081014402963,-0.03827836326640114,-0.009126263773042978,0.0542310703010979,-0.039992930823341245,-0.2556720723066337,-0.21284573875636298,-0.1463868714392135,0.33005095071498636,0.25621039920430877,-0.03638901231404383,-0.1345810224784592,0.30428046329906583,-0.22939109038226324,-0.19622960981112475,-0.36717891805720254,0.1472098479259962,-0.2718934731486262,-0.10720783699668725,0.008217865932492048,1.2568564369644272e-07,1.880747942064527e-05,0.06288286270452009,0.0002126609986259801,0.009297531057421636]\n",
            "Intercept: -3.1023313741665164\n"
          ]
        }
      ],
      "source": [
        "# Print the coefficients and intercept for logistic regression\n",
        "print(\"Coefficients: \" + str(linearModel.coefficients))\n",
        "print(\"Intercept: \" + str(linearModel.intercept))"
      ]
    },
    {
      "cell_type": "code",
      "execution_count": null,
      "metadata": {
        "colab": {
          "base_uri": "https://localhost:8080/"
        },
        "id": "o3HjyapXY7ax",
        "outputId": "a2f4797e-cf43-4daa-f8d2-3041ef76956f"
      },
      "outputs": [
        {
          "name": "stdout",
          "output_type": "stream",
          "text": [
            "root\n",
            " |-- newincome: double (nullable = true)\n",
            " |-- features: vector (nullable = true)\n",
            " |-- rawPrediction: vector (nullable = true)\n",
            " |-- probability: vector (nullable = true)\n",
            " |-- prediction: double (nullable = false)\n",
            "\n"
          ]
        }
      ],
      "source": [
        "# Make predictions on test data using the transform() method.\n",
        "predictions = linearModel.transform(test_data)\n",
        "predictions.printSchema()"
      ]
    },
    {
      "cell_type": "code",
      "execution_count": null,
      "metadata": {
        "colab": {
          "base_uri": "https://localhost:8080/"
        },
        "id": "N6s5Z8tAY-_1",
        "outputId": "5c1c4b16-3404-4d17-9aca-014ee3c87cc8"
      },
      "outputs": [
        {
          "name": "stdout",
          "output_type": "stream",
          "text": [
            "+---------+----------+--------------------+\n",
            "|newincome|prediction|         probability|\n",
            "+---------+----------+--------------------+\n",
            "|      0.0|       0.0|[0.94897211752093...|\n",
            "|      0.0|       0.0|[0.96181340180899...|\n",
            "|      0.0|       0.0|[0.81544680161191...|\n",
            "|      0.0|       0.0|[0.93838588013706...|\n",
            "|      0.0|       0.0|[0.55062963693331...|\n",
            "|      0.0|       1.0|[0.28223281796724...|\n",
            "|      0.0|       1.0|[0.34214769708732...|\n",
            "|      0.0|       0.0|[0.92861466273695...|\n",
            "|      0.0|       1.0|[0.41427127276005...|\n",
            "|      0.0|       1.0|[0.31821655911344...|\n",
            "|      0.0|       0.0|[0.91805481465498...|\n",
            "|      0.0|       0.0|[0.87671197102811...|\n",
            "|      0.0|       0.0|[0.86521764677453...|\n",
            "|      0.0|       0.0|[0.94658924875362...|\n",
            "|      0.0|       0.0|[0.67979060749181...|\n",
            "|      0.0|       0.0|[0.78793006516059...|\n",
            "|      0.0|       0.0|[0.85662515535784...|\n",
            "|      0.0|       0.0|[0.84317330097427...|\n",
            "|      0.0|       0.0|[0.84126323762299...|\n",
            "|      0.0|       0.0|[0.86178242748983...|\n",
            "+---------+----------+--------------------+\n",
            "only showing top 20 rows\n",
            "\n"
          ]
        }
      ],
      "source": [
        "selected = predictions.select(\"newincome\", \"prediction\", \"probability\")\n",
        "selected.show(20)"
      ]
    },
    {
      "cell_type": "code",
      "execution_count": null,
      "metadata": {
        "id": "bOYD2atcZSKq"
      },
      "outputs": [],
      "source": [
        "cm = predictions.select(\"newincome\", \"prediction\")"
      ]
    },
    {
      "cell_type": "code",
      "execution_count": null,
      "metadata": {
        "colab": {
          "base_uri": "https://localhost:8080/"
        },
        "id": "O0MmQWekZilB",
        "outputId": "1f7351b9-d6b5-47ec-93fd-469f3abc753e"
      },
      "outputs": [
        {
          "name": "stdout",
          "output_type": "stream",
          "text": [
            "+---------+----------------+\n",
            "|newincome|count(newincome)|\n",
            "+---------+----------------+\n",
            "|      0.0|            7453|\n",
            "|      1.0|            2342|\n",
            "+---------+----------------+\n",
            "\n"
          ]
        }
      ],
      "source": [
        "cm.groupby('newincome').agg({'newincome': 'count'}).show()"
      ]
    },
    {
      "cell_type": "code",
      "execution_count": null,
      "metadata": {
        "colab": {
          "base_uri": "https://localhost:8080/"
        },
        "id": "li-faTN4Zsfx",
        "outputId": "7ff681ae-7a13-43e8-c3e9-70145b269fd4"
      },
      "outputs": [
        {
          "name": "stdout",
          "output_type": "stream",
          "text": [
            "+----------+-----------------+\n",
            "|prediction|count(prediction)|\n",
            "+----------+-----------------+\n",
            "|       0.0|             8768|\n",
            "|       1.0|             1027|\n",
            "+----------+-----------------+\n",
            "\n"
          ]
        }
      ],
      "source": [
        "cm.groupby('prediction').agg({'prediction': 'count'}).show()"
      ]
    },
    {
      "cell_type": "code",
      "execution_count": null,
      "metadata": {
        "colab": {
          "base_uri": "https://localhost:8080/"
        },
        "id": "ysakriHMZ7w6",
        "outputId": "5316437c-e8ed-44f2-fbf4-f3a86fc944bb"
      },
      "outputs": [
        {
          "data": {
            "text/plain": [
              "0.8265441551812149"
            ]
          },
          "execution_count": 71,
          "metadata": {},
          "output_type": "execute_result"
        }
      ],
      "source": [
        "cm.filter(cm.newincome == cm.prediction).count() / cm.count()"
      ]
    },
    {
      "cell_type": "code",
      "execution_count": null,
      "metadata": {
        "colab": {
          "base_uri": "https://localhost:8080/"
        },
        "id": "VH-4hp4raLFN",
        "outputId": "77090a2e-f55a-4d6a-9a1a-af504e142bd2"
      },
      "outputs": [
        {
          "name": "stdout",
          "output_type": "stream",
          "text": [
            "Model accuracy: 82.654%\n"
          ]
        }
      ],
      "source": [
        "def accuracy_m(model): \n",
        "    predictions = model.transform(test_data)\n",
        "    cm = predictions.select(\"newincome\", \"prediction\")\n",
        "    acc = cm.filter(cm.newincome == cm.prediction).count() / cm.count()\n",
        "    print(\"Model accuracy: %.3f%%\" % (acc * 100)) \n",
        "accuracy_m(model = linearModel)"
      ]
    },
    {
      "cell_type": "code",
      "execution_count": null,
      "metadata": {
        "colab": {
          "base_uri": "https://localhost:8080/"
        },
        "id": "6cV5mdBAavGM",
        "outputId": "22190a6f-6a36-4199-cee5-26aecc520bfe"
      },
      "outputs": [
        {
          "name": "stdout",
          "output_type": "stream",
          "text": [
            "0.8879110114818007\n",
            "areaUnderROC\n"
          ]
        }
      ],
      "source": [
        "### Use ROC \n",
        "from pyspark.ml.evaluation import BinaryClassificationEvaluator\n",
        "\n",
        "# Evaluate model\n",
        "evaluator = BinaryClassificationEvaluator(rawPredictionCol=\"rawPrediction\")\n",
        "print(evaluator.evaluate(predictions))\n",
        "print(evaluator.getMetricName())"
      ]
    },
    {
      "cell_type": "code",
      "execution_count": null,
      "metadata": {
        "id": "0-us2CGAbngZ"
      },
      "outputs": [],
      "source": [
        "from pyspark.ml.tuning import ParamGridBuilder, CrossValidator\n",
        "\n",
        "# Create ParamGrid for Cross Validation\n",
        "paramGrid = (ParamGridBuilder()\n",
        "             .addGrid(lr.regParam, [0.01, 0.5])\n",
        "             .build())"
      ]
    },
    {
      "cell_type": "code",
      "execution_count": null,
      "metadata": {
        "colab": {
          "background_save": true
        },
        "id": "J8ieRgtqdOPm",
        "outputId": "99ed2a74-0030-47f0-d4e6-8e2e0214a3a3"
      },
      "outputs": [
        {
          "name": "stdout",
          "output_type": "stream",
          "text": [
            "Time to train model: 665.990 seconds\n"
          ]
        }
      ],
      "source": [
        "from time import *\n",
        "start_time = time()\n",
        "\n",
        "# Create 5-fold CrossValidator\n",
        "cv = CrossValidator(estimator=lr,\n",
        "                    estimatorParamMaps=paramGrid,\n",
        "                    evaluator=evaluator, numFolds=5)\n",
        "\n",
        "# Run cross validations\n",
        "cvModel = cv.fit(train_data)\n",
        "# likely take a fair amount of time\n",
        "end_time = time()\n",
        "elapsed_time = end_time - start_time\n",
        "print(\"Time to train model: %.3f seconds\" % elapsed_time)"
      ]
    },
    {
      "cell_type": "code",
      "execution_count": 89,
      "metadata": {
        "id": "hHSML5ogdd-D",
        "colab": {
          "base_uri": "https://localhost:8080/"
        },
        "outputId": "c6538b9d-130c-4c07-a33c-6423e1691586"
      },
      "outputs": [
        {
          "output_type": "stream",
          "name": "stdout",
          "text": [
            "Model accuracy: 84.941%\n"
          ]
        }
      ],
      "source": [
        "accuracy_m(model = cvModel)"
      ]
    },
    {
      "cell_type": "code",
      "execution_count": null,
      "metadata": {
        "colab": {
          "base_uri": "https://localhost:8080/"
        },
        "id": "49wYd7qed-p-",
        "outputId": "822524b8-ed92-49c4-9a25-6d8eecf1809c"
      },
      "outputs": [
        {
          "name": "stdout",
          "output_type": "stream",
          "text": [
            "+---------+--------------------------------------------------------------------------------------------------------------------------------------------------------------------------------------------------------------------------------------------------------------------------------------------------------------------------------------------------------------------------------------------------------------------+\n",
            "|newincome|features                                                                                                                                                                                                                                                                                                                                                                                                            |\n",
            "+---------+--------------------------------------------------------------------------------------------------------------------------------------------------------------------------------------------------------------------------------------------------------------------------------------------------------------------------------------------------------------------------------------------------------------------+\n",
            "|0.0      |[0.0,0.0,0.0,0.0,0.0,0.0,0.0,0.0,0.0,0.0,0.0,0.0,0.0,0.0,0.0,0.0,1.0,0.0,0.0,0.0,0.0,0.0,0.0,0.0,0.0,1.0,0.0,0.0,0.0,0.0,0.0,0.0,0.0,0.0,0.0,0.0,1.0,0.0,0.0,0.0,0.0,0.0,0.0,0.0,1.0,0.0,0.0,0.0,1.0,0.0,0.0,0.0,1.0,1.0,0.0,0.0,0.0,0.0,0.0,0.0,0.0,0.0,0.0,0.0,0.0,0.0,0.0,0.0,0.0,0.0,0.0,0.0,0.0,0.0,0.0,0.0,0.0,0.0,0.0,0.0,0.0,0.0,0.0,0.0,0.0,0.0,0.0,0.0,0.0,0.0,0.0,0.0,0.0,23.0,188535.0,0.0,4.0,0.0,35.0]|\n",
            "|0.0      |[0.0,0.0,0.0,0.0,0.0,0.0,0.0,0.0,0.0,0.0,0.0,0.0,0.0,0.0,0.0,1.0,0.0,0.0,0.0,0.0,0.0,0.0,0.0,0.0,1.0,0.0,0.0,0.0,0.0,0.0,0.0,0.0,0.0,0.0,0.0,0.0,1.0,0.0,0.0,0.0,0.0,0.0,0.0,0.0,0.0,1.0,0.0,0.0,1.0,0.0,0.0,0.0,1.0,1.0,0.0,0.0,0.0,0.0,0.0,0.0,0.0,0.0,0.0,0.0,0.0,0.0,0.0,0.0,0.0,0.0,0.0,0.0,0.0,0.0,0.0,0.0,0.0,0.0,0.0,0.0,0.0,0.0,0.0,0.0,0.0,0.0,0.0,0.0,0.0,0.0,0.0,0.0,0.0,18.0,206359.0,0.0,6.0,0.0,40.0]|\n",
            "+---------+--------------------------------------------------------------------------------------------------------------------------------------------------------------------------------------------------------------------------------------------------------------------------------------------------------------------------------------------------------------------------------------------------------------------+\n",
            "only showing top 2 rows\n",
            "\n"
          ]
        }
      ],
      "source": [
        "train_data.show(2, truncate=False)"
      ]
    },
    {
      "cell_type": "code",
      "execution_count": null,
      "metadata": {
        "id": "ngRkHsGReH0m"
      },
      "outputs": [],
      "source": []
    }
  ],
  "metadata": {
    "colab": {
      "provenance": [],
      "authorship_tag": "ABX9TyMsOFz4CmGl32ptsPXc6gPd",
      "include_colab_link": true
    },
    "kernelspec": {
      "display_name": "Python 3",
      "name": "python3"
    },
    "language_info": {
      "name": "python"
    }
  },
  "nbformat": 4,
  "nbformat_minor": 0
}